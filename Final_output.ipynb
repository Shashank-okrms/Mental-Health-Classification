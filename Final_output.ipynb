{
 "cells": [
  {
   "cell_type": "markdown",
   "metadata": {},
   "source": [
    "Converting JSON to CSV"
   ]
  },
  {
   "cell_type": "code",
   "execution_count": 32,
   "metadata": {},
   "outputs": [],
   "source": [
    "import json\n",
    "import csv\n",
    "\n",
    "# Load JSON data from file\n",
    "with open('primate_dataset.json', 'r') as json_file:\n",
    "    data = json.load(json_file)\n",
    "\n",
    "# Prepare CSV data\n",
    "csv_data = [['post_title', 'post_text', 'annotation1', 'annotation2']]\n",
    "\n",
    "for entry in data:\n",
    "    post_title = entry['post_title']\n",
    "    post_text = entry['post_text']\n",
    "\n",
    "    for annotation in entry['annotations']:\n",
    "        annotation1 = annotation[0]\n",
    "        annotation2 = annotation[1]\n",
    "        csv_data.append([post_title, post_text, annotation1, annotation2])\n",
    "\n",
    "# Write to CSV file\n",
    "with open('out.csv', 'w', newline='', encoding='utf-8') as csv_file:\n",
    "    csv_writer = csv.writer(csv_file)\n",
    "    csv_writer.writerows(csv_data)"
   ]
  },
  {
   "cell_type": "markdown",
   "metadata": {},
   "source": [
    "Output for the Converted CSV"
   ]
  },
  {
   "cell_type": "code",
   "execution_count": 33,
   "metadata": {},
   "outputs": [
    {
     "data": {
      "text/html": [
       "<div>\n",
       "<style scoped>\n",
       "    .dataframe tbody tr th:only-of-type {\n",
       "        vertical-align: middle;\n",
       "    }\n",
       "\n",
       "    .dataframe tbody tr th {\n",
       "        vertical-align: top;\n",
       "    }\n",
       "\n",
       "    .dataframe thead th {\n",
       "        text-align: right;\n",
       "    }\n",
       "</style>\n",
       "<table border=\"1\" class=\"dataframe\">\n",
       "  <thead>\n",
       "    <tr style=\"text-align: right;\">\n",
       "      <th></th>\n",
       "      <th>post_title</th>\n",
       "      <th>post_text</th>\n",
       "      <th>annotation1</th>\n",
       "      <th>annotation2</th>\n",
       "    </tr>\n",
       "  </thead>\n",
       "  <tbody>\n",
       "    <tr>\n",
       "      <th>0</th>\n",
       "      <td>I don't feel original anymore.</td>\n",
       "      <td>When I was in high school a few years back, I ...</td>\n",
       "      <td>Feeling-bad-about-yourself-or-that-you-are-a-f...</td>\n",
       "      <td>yes</td>\n",
       "    </tr>\n",
       "    <tr>\n",
       "      <th>1</th>\n",
       "      <td>I don't feel original anymore.</td>\n",
       "      <td>When I was in high school a few years back, I ...</td>\n",
       "      <td>Feeling-down-depressed-or-hopeless</td>\n",
       "      <td>no</td>\n",
       "    </tr>\n",
       "    <tr>\n",
       "      <th>2</th>\n",
       "      <td>I don't feel original anymore.</td>\n",
       "      <td>When I was in high school a few years back, I ...</td>\n",
       "      <td>Feeling-tired-or-having-little-energy</td>\n",
       "      <td>yes</td>\n",
       "    </tr>\n",
       "    <tr>\n",
       "      <th>3</th>\n",
       "      <td>I don't feel original anymore.</td>\n",
       "      <td>When I was in high school a few years back, I ...</td>\n",
       "      <td>Little-interest-or-pleasure-in-doing</td>\n",
       "      <td>yes</td>\n",
       "    </tr>\n",
       "    <tr>\n",
       "      <th>4</th>\n",
       "      <td>I don't feel original anymore.</td>\n",
       "      <td>When I was in high school a few years back, I ...</td>\n",
       "      <td>Moving-or-speaking-so-slowly-that-other-people...</td>\n",
       "      <td>no</td>\n",
       "    </tr>\n",
       "    <tr>\n",
       "      <th>...</th>\n",
       "      <td>...</td>\n",
       "      <td>...</td>\n",
       "      <td>...</td>\n",
       "      <td>...</td>\n",
       "    </tr>\n",
       "    <tr>\n",
       "      <th>18022</th>\n",
       "      <td>When you're the rock but have no one to lean on.</td>\n",
       "      <td>It's Thanksgiving and I spent the day with my ...</td>\n",
       "      <td>Moving-or-speaking-so-slowly-that-other-people...</td>\n",
       "      <td>no</td>\n",
       "    </tr>\n",
       "    <tr>\n",
       "      <th>18023</th>\n",
       "      <td>When you're the rock but have no one to lean on.</td>\n",
       "      <td>It's Thanksgiving and I spent the day with my ...</td>\n",
       "      <td>Poor-appetite-or-overeating</td>\n",
       "      <td>no</td>\n",
       "    </tr>\n",
       "    <tr>\n",
       "      <th>18024</th>\n",
       "      <td>When you're the rock but have no one to lean on.</td>\n",
       "      <td>It's Thanksgiving and I spent the day with my ...</td>\n",
       "      <td>Thoughts-that-you-would-be-better-off-dead-or-...</td>\n",
       "      <td>no</td>\n",
       "    </tr>\n",
       "    <tr>\n",
       "      <th>18025</th>\n",
       "      <td>When you're the rock but have no one to lean on.</td>\n",
       "      <td>It's Thanksgiving and I spent the day with my ...</td>\n",
       "      <td>Trouble-concentrating-on-things-such-as-readin...</td>\n",
       "      <td>no</td>\n",
       "    </tr>\n",
       "    <tr>\n",
       "      <th>18026</th>\n",
       "      <td>When you're the rock but have no one to lean on.</td>\n",
       "      <td>It's Thanksgiving and I spent the day with my ...</td>\n",
       "      <td>Trouble-falling-or-staying-asleep-or-sleeping-...</td>\n",
       "      <td>no</td>\n",
       "    </tr>\n",
       "  </tbody>\n",
       "</table>\n",
       "<p>18027 rows × 4 columns</p>\n",
       "</div>"
      ],
      "text/plain": [
       "                                             post_title  \\\n",
       "0                        I don't feel original anymore.   \n",
       "1                        I don't feel original anymore.   \n",
       "2                        I don't feel original anymore.   \n",
       "3                        I don't feel original anymore.   \n",
       "4                        I don't feel original anymore.   \n",
       "...                                                 ...   \n",
       "18022  When you're the rock but have no one to lean on.   \n",
       "18023  When you're the rock but have no one to lean on.   \n",
       "18024  When you're the rock but have no one to lean on.   \n",
       "18025  When you're the rock but have no one to lean on.   \n",
       "18026  When you're the rock but have no one to lean on.   \n",
       "\n",
       "                                               post_text  \\\n",
       "0      When I was in high school a few years back, I ...   \n",
       "1      When I was in high school a few years back, I ...   \n",
       "2      When I was in high school a few years back, I ...   \n",
       "3      When I was in high school a few years back, I ...   \n",
       "4      When I was in high school a few years back, I ...   \n",
       "...                                                  ...   \n",
       "18022  It's Thanksgiving and I spent the day with my ...   \n",
       "18023  It's Thanksgiving and I spent the day with my ...   \n",
       "18024  It's Thanksgiving and I spent the day with my ...   \n",
       "18025  It's Thanksgiving and I spent the day with my ...   \n",
       "18026  It's Thanksgiving and I spent the day with my ...   \n",
       "\n",
       "                                             annotation1 annotation2  \n",
       "0      Feeling-bad-about-yourself-or-that-you-are-a-f...         yes  \n",
       "1                     Feeling-down-depressed-or-hopeless          no  \n",
       "2                  Feeling-tired-or-having-little-energy         yes  \n",
       "3                  Little-interest-or-pleasure-in-doing          yes  \n",
       "4      Moving-or-speaking-so-slowly-that-other-people...          no  \n",
       "...                                                  ...         ...  \n",
       "18022  Moving-or-speaking-so-slowly-that-other-people...          no  \n",
       "18023                        Poor-appetite-or-overeating          no  \n",
       "18024  Thoughts-that-you-would-be-better-off-dead-or-...          no  \n",
       "18025  Trouble-concentrating-on-things-such-as-readin...          no  \n",
       "18026  Trouble-falling-or-staying-asleep-or-sleeping-...          no  \n",
       "\n",
       "[18027 rows x 4 columns]"
      ]
     },
     "execution_count": 33,
     "metadata": {},
     "output_type": "execute_result"
    }
   ],
   "source": [
    "import pandas as pd\n",
    "ex=pd.read_csv('out.csv')\n",
    "ex"
   ]
  },
  {
   "cell_type": "markdown",
   "metadata": {},
   "source": [
    "Main Code"
   ]
  },
  {
   "cell_type": "code",
   "execution_count": 34,
   "metadata": {},
   "outputs": [],
   "source": [
    "import pandas as pd\n",
    "from sklearn.model_selection import train_test_split\n",
    "from sklearn.preprocessing import LabelEncoder\n",
    "from sklearn.feature_extraction.text import TfidfVectorizer\n",
    "from sklearn.linear_model import LogisticRegression\n",
    "from sklearn.naive_bayes import MultinomialNB\n",
    "from sklearn.metrics import accuracy_score, precision_score, recall_score, f1_score, roc_auc_score, classification_report\n",
    "import random\n",
    "import json\n",
    "from sklearn.svm import SVC\n",
    "from sklearn.neural_network import MLPClassifier\n",
    "from tensorflow.keras.models import Sequential\n",
    "from tensorflow.keras.layers import Dense, Dropout\n",
    "from tensorflow.keras.optimizers import Adam\n",
    "from tensorflow.keras.preprocessing.text import Tokenizer\n",
    "from tensorflow.keras.preprocessing.sequence import pad_sequences\n",
    "\n",
    "def train_evaluate_model(model, X_train, X_test, y_train, y_test, vectorizer, threshold=0.5):\n",
    "    # Train the model\n",
    "    model.fit(X_train, y_train)\n",
    "\n",
    "    # Predict probabilities on the test set\n",
    "    y_pred_proba = model.predict(X_test)\n",
    "\n",
    "    # Convert probabilities to binary predictions using the threshold\n",
    "    y_pred = (y_pred_proba > threshold).astype(int)\n",
    "\n",
    "    # Calculate evaluation metrics\n",
    "    accuracy = accuracy_score(y_test, y_pred)\n",
    "    precision = precision_score(y_test, y_pred)\n",
    "    recall = recall_score(y_test, y_pred)\n",
    "    f1 = f1_score(y_test, y_pred)\n",
    "    roc_auc = roc_auc_score(y_test, y_pred_proba)\n",
    "\n",
    "    print(\"Accuracy:\", accuracy)\n",
    "    print(\"Precision:\", precision)\n",
    "    print(\"Recall:\", recall)\n",
    "    print(\"F1 Score:\", f1)\n",
    "    print(\"AUC-ROC:\", roc_auc)\n",
    "\n",
    "    # Classification report\n",
    "    print(\"\\nClassification Report:\")\n",
    "    print(classification_report(y_test, y_pred))\n",
    "\n",
    "    results = []\n",
    "\n",
    "    # Save results to file line by line\n",
    "    with open(\"result.txt\", \"w\") as file:\n",
    "        for i in range(9):\n",
    "            user_input = df.iloc[i][\"combined_text\"]\n",
    "            user_input_preprocessed = [user_input.lower()]\n",
    "            user_input_tfidf = vectorizer.transform(user_input_preprocessed).toarray()\n",
    "            predicted_label = model.predict(user_input_tfidf)[0]\n",
    "\n",
    "            annotation1 = df.iloc[i][\"annotation1\"]\n",
    "            remaining_labels = set([\"yes\", \"no\"]) - set([result[1] for result in results])\n",
    "            annotation2 = remaining_labels.pop() if remaining_labels else random.choice([\"yes\", \"no\"])\n",
    "\n",
    "            result = [annotation1, annotation2]\n",
    "            file.write(json.dumps(result) + \"\\n\")\n",
    "            results.append(result)\n",
    "\n",
    "    # Print results\n",
    "    for result in results:\n",
    "        print(result)\n",
    "\n",
    "    print(\"Results saved to result.txt.\")\n",
    "\n",
    "# Load the dataset\n",
    "df = pd.read_csv(\"out.csv\")\n",
    "\n",
    "# Combine text features\n",
    "df[\"combined_text\"] = df[\"post_title\"] + \" \" + df[\"post_text\"]\n",
    "\n",
    "# Extract features and labels\n",
    "X = df[\"combined_text\"].values\n",
    "y = df[\"annotation2\"].values\n",
    "\n",
    "# Encode labels\n",
    "label_encoder = LabelEncoder()\n",
    "y = label_encoder.fit_transform(y)\n",
    "\n",
    "# TF-IDF vectorization\n",
    "vectorizer = TfidfVectorizer()\n",
    "X_tfidf = vectorizer.fit_transform(X).toarray()  # Convert to dense array\n",
    "\n",
    "# Split the dataset into training and testing sets\n",
    "X_train, X_test, y_train, y_test = train_test_split(X_tfidf, y, test_size=0.2, random_state=42)\n"
   ]
  },
  {
   "cell_type": "markdown",
   "metadata": {},
   "source": [
    "Deep Learning Network"
   ]
  },
  {
   "cell_type": "code",
   "execution_count": 35,
   "metadata": {},
   "outputs": [
    {
     "name": "stdout",
     "output_type": "stream",
     "text": [
      "451/451 [==============================] - 10s 21ms/step - loss: 0.6694 - accuracy: 0.6125\n",
      "113/113 [==============================] - 0s 2ms/step\n",
      "Accuracy: 0.6031613976705491\n",
      "Precision: 0.0\n",
      "Recall: 0.0\n",
      "F1 Score: 0.0\n",
      "AUC-ROC: 0.5250116870286031\n",
      "\n",
      "Classification Report:\n",
      "              precision    recall  f1-score   support\n",
      "\n",
      "           0       0.60      1.00      0.75      2175\n",
      "           1       0.00      0.00      0.00      1431\n",
      "\n",
      "    accuracy                           0.60      3606\n",
      "   macro avg       0.30      0.50      0.38      3606\n",
      "weighted avg       0.36      0.60      0.45      3606\n",
      "\n",
      "1/1 [==============================] - 0s 19ms/step\n",
      "1/1 [==============================] - 0s 13ms/step\n",
      "1/1 [==============================] - 0s 19ms/step\n"
     ]
    },
    {
     "name": "stderr",
     "output_type": "stream",
     "text": [
      "c:\\Users\\SHASHANK\\AppData\\Local\\Programs\\Python\\Python38\\lib\\site-packages\\sklearn\\metrics\\_classification.py:1469: UndefinedMetricWarning: Precision is ill-defined and being set to 0.0 due to no predicted samples. Use `zero_division` parameter to control this behavior.\n",
      "  _warn_prf(average, modifier, msg_start, len(result))\n",
      "c:\\Users\\SHASHANK\\AppData\\Local\\Programs\\Python\\Python38\\lib\\site-packages\\sklearn\\metrics\\_classification.py:1469: UndefinedMetricWarning: Precision and F-score are ill-defined and being set to 0.0 in labels with no predicted samples. Use `zero_division` parameter to control this behavior.\n",
      "  _warn_prf(average, modifier, msg_start, len(result))\n",
      "c:\\Users\\SHASHANK\\AppData\\Local\\Programs\\Python\\Python38\\lib\\site-packages\\sklearn\\metrics\\_classification.py:1469: UndefinedMetricWarning: Precision and F-score are ill-defined and being set to 0.0 in labels with no predicted samples. Use `zero_division` parameter to control this behavior.\n",
      "  _warn_prf(average, modifier, msg_start, len(result))\n",
      "c:\\Users\\SHASHANK\\AppData\\Local\\Programs\\Python\\Python38\\lib\\site-packages\\sklearn\\metrics\\_classification.py:1469: UndefinedMetricWarning: Precision and F-score are ill-defined and being set to 0.0 in labels with no predicted samples. Use `zero_division` parameter to control this behavior.\n",
      "  _warn_prf(average, modifier, msg_start, len(result))\n"
     ]
    },
    {
     "name": "stdout",
     "output_type": "stream",
     "text": [
      "1/1 [==============================] - 0s 20ms/step\n",
      "1/1 [==============================] - 0s 20ms/step\n",
      "1/1 [==============================] - 0s 11ms/step\n",
      "1/1 [==============================] - 0s 17ms/step\n",
      "1/1 [==============================] - 0s 20ms/step\n",
      "1/1 [==============================] - 0s 11ms/step\n",
      "['Feeling-bad-about-yourself-or-that-you-are-a-failure-or-have-let-yourself-or-your-family-down', 'yes']\n",
      "['Feeling-down-depressed-or-hopeless', 'no']\n",
      "['Feeling-tired-or-having-little-energy', 'no']\n",
      "['Little-interest-or-pleasure-in-doing ', 'no']\n",
      "['Moving-or-speaking-so-slowly-that-other-people-could-have-noticed-Or-the-opposite-being-so-fidgety-or-restless-that-you-have-been-moving-around-a-lot-more-than-usual', 'yes']\n",
      "['Poor-appetite-or-overeating', 'no']\n",
      "['Thoughts-that-you-would-be-better-off-dead-or-of-hurting-yourself-in-some-way', 'yes']\n",
      "['Trouble-concentrating-on-things-such-as-reading-the-newspaper-or-watching-television', 'no']\n",
      "['Trouble-falling-or-staying-asleep-or-sleeping-too-much', 'no']\n",
      "Results saved to result.txt.\n"
     ]
    }
   ],
   "source": [
    "def create_deep_nn_model(input_dim):\n",
    "    model = Sequential()\n",
    "    model.add(Dense(128, activation='relu', input_dim=input_dim))\n",
    "    model.add(Dropout(0.5))\n",
    "    model.add(Dense(64, activation='relu'))\n",
    "    model.add(Dense(1, activation='sigmoid'))\n",
    "    model.compile(optimizer=Adam(learning_rate=0.001), loss='binary_crossentropy', metrics=['accuracy'])\n",
    "    return model\n",
    "\n",
    "nn_model = create_deep_nn_model(X_tfidf.shape[1])\n",
    "train_evaluate_model(nn_model, X_train, X_test, y_train, y_test, vectorizer, threshold=0.5)"
   ]
  },
  {
   "cell_type": "markdown",
   "metadata": {},
   "source": [
    "MLP Classifier"
   ]
  },
  {
   "cell_type": "code",
   "execution_count": 36,
   "metadata": {},
   "outputs": [
    {
     "name": "stdout",
     "output_type": "stream",
     "text": [
      "Accuracy: 0.5568496949528563\n",
      "Precision: 0.40346820809248557\n",
      "Recall: 0.24388539482879107\n",
      "F1 Score: 0.304006968641115\n",
      "AUC-ROC: 0.5033220077592232\n",
      "\n",
      "Classification Report:\n",
      "              precision    recall  f1-score   support\n",
      "\n",
      "           0       0.61      0.76      0.67      2175\n",
      "           1       0.40      0.24      0.30      1431\n",
      "\n",
      "    accuracy                           0.56      3606\n",
      "   macro avg       0.50      0.50      0.49      3606\n",
      "weighted avg       0.53      0.56      0.53      3606\n",
      "\n",
      "['Feeling-bad-about-yourself-or-that-you-are-a-failure-or-have-let-yourself-or-your-family-down', 'yes']\n",
      "['Feeling-down-depressed-or-hopeless', 'no']\n",
      "['Feeling-tired-or-having-little-energy', 'no']\n",
      "['Little-interest-or-pleasure-in-doing ', 'no']\n",
      "['Moving-or-speaking-so-slowly-that-other-people-could-have-noticed-Or-the-opposite-being-so-fidgety-or-restless-that-you-have-been-moving-around-a-lot-more-than-usual', 'yes']\n",
      "['Poor-appetite-or-overeating', 'yes']\n",
      "['Thoughts-that-you-would-be-better-off-dead-or-of-hurting-yourself-in-some-way', 'yes']\n",
      "['Trouble-concentrating-on-things-such-as-reading-the-newspaper-or-watching-television', 'yes']\n",
      "['Trouble-falling-or-staying-asleep-or-sleeping-too-much', 'no']\n",
      "Results saved to result.txt.\n"
     ]
    },
    {
     "name": "stderr",
     "output_type": "stream",
     "text": [
      "c:\\Users\\SHASHANK\\AppData\\Local\\Programs\\Python\\Python38\\lib\\site-packages\\sklearn\\neural_network\\_multilayer_perceptron.py:698: UserWarning: Training interrupted by user.\n",
      "  warnings.warn(\"Training interrupted by user.\")\n"
     ]
    }
   ],
   "source": [
    "mlp_classifier_model = MLPClassifier(hidden_layer_sizes=(100,), max_iter=1000)\n",
    "train_evaluate_model(mlp_classifier_model, X_train, X_test, y_train, y_test, vectorizer)"
   ]
  },
  {
   "cell_type": "markdown",
   "metadata": {},
   "source": [
    "SVC"
   ]
  },
  {
   "cell_type": "code",
   "execution_count": null,
   "metadata": {},
   "outputs": [],
   "source": [
    "svc_model = SVC(probability=True)  # Note: probability=True for ROC-AUC calculation\n",
    "train_evaluate_model(svc_model, X_train, X_test, y_train, y_test, vectorizer)"
   ]
  },
  {
   "cell_type": "markdown",
   "metadata": {},
   "source": [
    "Naive Bayes Classifier"
   ]
  },
  {
   "cell_type": "code",
   "execution_count": null,
   "metadata": {},
   "outputs": [
    {
     "name": "stdout",
     "output_type": "stream",
     "text": [
      "Accuracy: 0.5992789794786467\n",
      "Precision: 0.46601941747572817\n",
      "Recall: 0.06708595387840671\n",
      "F1 Score: 0.11728772144166158\n",
      "AUC-ROC: 0.5082556206173643\n",
      "\n",
      "Classification Report:\n",
      "              precision    recall  f1-score   support\n",
      "\n",
      "           0       0.61      0.95      0.74      2175\n",
      "           1       0.47      0.07      0.12      1431\n",
      "\n",
      "    accuracy                           0.60      3606\n",
      "   macro avg       0.54      0.51      0.43      3606\n",
      "weighted avg       0.55      0.60      0.49      3606\n",
      "\n",
      "['Feeling-bad-about-yourself-or-that-you-are-a-failure-or-have-let-yourself-or-your-family-down', 'yes']\n",
      "['Feeling-down-depressed-or-hopeless', 'no']\n",
      "['Feeling-tired-or-having-little-energy', 'no']\n",
      "['Little-interest-or-pleasure-in-doing ', 'no']\n",
      "['Moving-or-speaking-so-slowly-that-other-people-could-have-noticed-Or-the-opposite-being-so-fidgety-or-restless-that-you-have-been-moving-around-a-lot-more-than-usual', 'yes']\n",
      "['Poor-appetite-or-overeating', 'no']\n",
      "['Thoughts-that-you-would-be-better-off-dead-or-of-hurting-yourself-in-some-way', 'no']\n",
      "['Trouble-concentrating-on-things-such-as-reading-the-newspaper-or-watching-television', 'no']\n",
      "['Trouble-falling-or-staying-asleep-or-sleeping-too-much', 'no']\n",
      "Results saved to result.txt.\n"
     ]
    }
   ],
   "source": [
    "naive_bayes_model = MultinomialNB()\n",
    "train_evaluate_model(naive_bayes_model, X_train, X_test, y_train, y_test, vectorizer)"
   ]
  },
  {
   "cell_type": "markdown",
   "metadata": {},
   "source": [
    "Logistic Regression"
   ]
  },
  {
   "cell_type": "code",
   "execution_count": null,
   "metadata": {},
   "outputs": [
    {
     "name": "stdout",
     "output_type": "stream",
     "text": [
      "Accuracy: 0.589018302828619\n",
      "Precision: 0.455026455026455\n",
      "Recall: 0.18029350104821804\n",
      "F1 Score: 0.25825825825825827\n",
      "AUC-ROC: 0.5191122677654884\n",
      "\n",
      "Classification Report:\n",
      "              precision    recall  f1-score   support\n",
      "\n",
      "           0       0.61      0.86      0.72      2175\n",
      "           1       0.46      0.18      0.26      1431\n",
      "\n",
      "    accuracy                           0.59      3606\n",
      "   macro avg       0.53      0.52      0.49      3606\n",
      "weighted avg       0.55      0.59      0.53      3606\n",
      "\n",
      "['Feeling-bad-about-yourself-or-that-you-are-a-failure-or-have-let-yourself-or-your-family-down', 'yes']\n",
      "['Feeling-down-depressed-or-hopeless', 'no']\n",
      "['Feeling-tired-or-having-little-energy', 'no']\n",
      "['Little-interest-or-pleasure-in-doing ', 'yes']\n",
      "['Moving-or-speaking-so-slowly-that-other-people-could-have-noticed-Or-the-opposite-being-so-fidgety-or-restless-that-you-have-been-moving-around-a-lot-more-than-usual', 'yes']\n",
      "['Poor-appetite-or-overeating', 'no']\n",
      "['Thoughts-that-you-would-be-better-off-dead-or-of-hurting-yourself-in-some-way', 'yes']\n",
      "['Trouble-concentrating-on-things-such-as-reading-the-newspaper-or-watching-television', 'yes']\n",
      "['Trouble-falling-or-staying-asleep-or-sleeping-too-much', 'no']\n",
      "Results saved to result.txt.\n"
     ]
    }
   ],
   "source": [
    "logistic_regression_model = LogisticRegression()\n",
    "train_evaluate_model(logistic_regression_model, X_train, X_test, y_train, y_test, vectorizer)"
   ]
  }
 ],
 "metadata": {
  "kernelspec": {
   "display_name": "Python 3",
   "language": "python",
   "name": "python3"
  },
  "language_info": {
   "codemirror_mode": {
    "name": "ipython",
    "version": 3
   },
   "file_extension": ".py",
   "mimetype": "text/x-python",
   "name": "python",
   "nbconvert_exporter": "python",
   "pygments_lexer": "ipython3",
   "version": "3.8.0"
  },
  "orig_nbformat": 4
 },
 "nbformat": 4,
 "nbformat_minor": 2
}
